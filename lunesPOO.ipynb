{
  "nbformat": 4,
  "nbformat_minor": 0,
  "metadata": {
    "colab": {
      "provenance": [],
      "authorship_tag": "ABX9TyMCrjkcgcLuXFsBvAcffGRI",
      "include_colab_link": true
    },
    "kernelspec": {
      "name": "python3",
      "display_name": "Python 3"
    },
    "language_info": {
      "name": "python"
    }
  },
  "cells": [
    {
      "cell_type": "markdown",
      "metadata": {
        "id": "view-in-github",
        "colab_type": "text"
      },
      "source": [
        "<a href=\"https://colab.research.google.com/github/Alexis-CT554/POO_Python/blob/main/lunesPOO.ipynb\" target=\"_parent\"><img src=\"https://colab.research.google.com/assets/colab-badge.svg\" alt=\"Open In Colab\"/></a>"
      ]
    },
    {
      "cell_type": "code",
      "execution_count": null,
      "metadata": {
        "colab": {
          "base_uri": "https://localhost:8080/",
          "height": 53
        },
        "id": "Pv1syK0_4DXR",
        "outputId": "c15c7180-d9b2-4d79-aed0-714281880b30"
      },
      "outputs": [
        {
          "output_type": "stream",
          "name": "stdout",
          "text": [
            "Hola Mundo\n"
          ]
        },
        {
          "output_type": "execute_result",
          "data": {
            "text/plain": [
              "'\\naadad\\nadada\\nafddgdg\\ndggdg\\n'"
            ],
            "application/vnd.google.colaboratory.intrinsic+json": {
              "type": "string"
            }
          },
          "metadata": {},
          "execution_count": 4
        }
      ],
      "source": [
        "# Esto es un comentario\n",
        "print(\"Hola Mundo\") # Esto imprime \"Hola Mundo\"\n",
        "\n",
        "\"\"\"\n",
        "aadad\n",
        "adada\n",
        "afddgdg\n",
        "dggdg\n",
        "\n",
        "\"\"\""
      ]
    },
    {
      "cell_type": "code",
      "source": [
        "!ls -a"
      ],
      "metadata": {
        "colab": {
          "base_uri": "https://localhost:8080/"
        },
        "id": "EFB1RkFV6ch6",
        "outputId": "26142736-ddb7-447c-cdad-8da184e2b98f"
      },
      "execution_count": null,
      "outputs": [
        {
          "output_type": "stream",
          "name": "stdout",
          "text": [
            ".  ..  .config\tsample_data\n"
          ]
        }
      ]
    },
    {
      "cell_type": "code",
      "source": [
        "\n",
        "print(\"Hola\", \"Mundo\")\n",
        " \n",
        "print(\"Hola\" + \"Mundo\")\n",
        " \n",
        "print(\"Hola\", \"Mundo\", sep=\"[!-!]\")  # Imprime: Hola-Mundo\n",
        " \n",
        "print(\"Hola\", end=\"\")\n",
        "print(\"Mundo\")  # Imprime: HolaMundo\n",
        " "
      ],
      "metadata": {
        "colab": {
          "base_uri": "https://localhost:8080/"
        },
        "id": "AOyJBKLD7DDA",
        "outputId": "df22a59a-f6fc-4c57-ae45-b71e095adcd0"
      },
      "execution_count": null,
      "outputs": [
        {
          "output_type": "stream",
          "name": "stdout",
          "text": [
            "Hola Mundo\n",
            "HolaMundo\n",
            "Hola!-!Mundo\n",
            "HolaMundo\n"
          ]
        }
      ]
    },
    {
      "cell_type": "code",
      "source": [
        "nombre = \"José\"\n",
        "carrera = \"ICO, la mejor\"\n",
        "print(\"Mi nombre es {1} y estudio {0} en la FES Aragón\".format(nombre, carrera))\n",
        "print(f\"Mi nombre es {nombre*2} y estudio en {carrera} dentro de la FES \")"
      ],
      "metadata": {
        "colab": {
          "base_uri": "https://localhost:8080/"
        },
        "id": "LVbbvkmU7q5E",
        "outputId": "e7dca29e-3c7d-47c1-e7e0-6ce48c216388"
      },
      "execution_count": null,
      "outputs": [
        {
          "output_type": "stream",
          "name": "stdout",
          "text": [
            "Mi nombre es ICO, la mejor y estudio José en la FES Aragón\n",
            "Mi nombre es JoséJosé y estudio en ICO, la mejor dentro de la FES \n"
          ]
        }
      ]
    },
    {
      "cell_type": "code",
      "source": [
        "# Operadores aritméticos\n",
        "suma = 5 + 3    # 8\n",
        "resta = 5 - 3   # 2\n",
        "producto = 5 * 3  # 15\n",
        "division = 5 / 3  # 1.66667\n",
        "division2 = 5 // 3 # 1\n",
        "modulo = 5 % 3   # 2\n",
        "potencia = 5 ** 3  # 125"
      ],
      "metadata": {
        "id": "NMuZRxOk_HYa"
      },
      "execution_count": null,
      "outputs": []
    },
    {
      "cell_type": "code",
      "source": [
        "division"
      ],
      "metadata": {
        "colab": {
          "base_uri": "https://localhost:8080/"
        },
        "id": "nXWIyH4x_Jdj",
        "outputId": "b749fd89-f24b-4803-a92a-2a8b417e78bc"
      },
      "execution_count": null,
      "outputs": [
        {
          "output_type": "execute_result",
          "data": {
            "text/plain": [
              "1.6666666666666667"
            ]
          },
          "metadata": {},
          "execution_count": 22
        }
      ]
    },
    {
      "cell_type": "code",
      "source": [
        "# Operadores de comparación\n",
        "igual = 5 == 3  # False\n",
        "diferente = 5 != 3  # True\n",
        "mayor_que = 5 > 3  # True\n",
        "menor_que = 5 < 3  # False\n",
        "mayor_o_igual_que = 5 >= 3  # True\n",
        "menor_o_igual_que = 5 <= 3  # False"
      ],
      "metadata": {
        "id": "0YjLyKbB_nxd"
      },
      "execution_count": null,
      "outputs": []
    },
    {
      "cell_type": "code",
      "source": [
        "diferente"
      ],
      "metadata": {
        "colab": {
          "base_uri": "https://localhost:8080/"
        },
        "id": "ePbYLAiH_tLI",
        "outputId": "184468b7-fd58-4920-9558-b0354c79ed04"
      },
      "execution_count": null,
      "outputs": [
        {
          "output_type": "execute_result",
          "data": {
            "text/plain": [
              "True"
            ]
          },
          "metadata": {},
          "execution_count": 21
        }
      ]
    },
    {
      "cell_type": "code",
      "source": [
        "# Operadores lógicos\n",
        "y = True and False  # False\n",
        "o = True or False  # True\n",
        "no = not False  # False"
      ],
      "metadata": {
        "id": "DrL1PnVBADWz"
      },
      "execution_count": null,
      "outputs": []
    },
    {
      "cell_type": "code",
      "source": [
        "no"
      ],
      "metadata": {
        "colab": {
          "base_uri": "https://localhost:8080/"
        },
        "id": "NBeZ0YS7AEq7",
        "outputId": "e038ad3e-8407-48b0-c514-6d76db208a61"
      },
      "execution_count": null,
      "outputs": [
        {
          "output_type": "execute_result",
          "data": {
            "text/plain": [
              "False"
            ]
          },
          "metadata": {},
          "execution_count": 24
        }
      ]
    },
    {
      "cell_type": "code",
      "source": [
        "False or True and False or True"
      ],
      "metadata": {
        "colab": {
          "base_uri": "https://localhost:8080/"
        },
        "id": "5X-GwsPmAM_S",
        "outputId": "75e3146f-5c2f-4425-9985-2e69a498575d"
      },
      "execution_count": null,
      "outputs": [
        {
          "output_type": "execute_result",
          "data": {
            "text/plain": [
              "True"
            ]
          },
          "metadata": {},
          "execution_count": 28
        }
      ]
    },
    {
      "cell_type": "code",
      "source": [
        "False or (True and False)"
      ],
      "metadata": {
        "colab": {
          "base_uri": "https://localhost:8080/"
        },
        "id": "2ppv5RXUAdLE",
        "outputId": "495fdf46-8cff-4882-a4a9-bbae60c0f496"
      },
      "execution_count": null,
      "outputs": [
        {
          "output_type": "execute_result",
          "data": {
            "text/plain": [
              "False"
            ]
          },
          "metadata": {},
          "execution_count": 30
        }
      ]
    },
    {
      "cell_type": "code",
      "source": [
        "saludo = \"Hola Mundo\"\n",
        "cita = 'Los alumnos\\n de ICO\\t\\t \\'dicen\\': \"Hola Mundo\"'\n",
        "parrafo = \"\"\"Esto es un párrafo\n",
        "que abarca varias\n",
        "líneas\"\"\""
      ],
      "metadata": {
        "id": "LyVAsdXBAtU0"
      },
      "execution_count": null,
      "outputs": []
    },
    {
      "cell_type": "code",
      "source": [
        "print(parrafo)\n",
        "print(cita)"
      ],
      "metadata": {
        "colab": {
          "base_uri": "https://localhost:8080/"
        },
        "id": "ZFvLvDehA-on",
        "outputId": "91454de3-2935-42e8-a6ab-d09eb67311b8"
      },
      "execution_count": null,
      "outputs": [
        {
          "output_type": "stream",
          "name": "stdout",
          "text": [
            "Esto es un párrafo\n",
            "que abarca varias\n",
            "líneas\n",
            "Los alumnos\n",
            " de ICO\t\t 'dicen': \"Hola Mundo\"\n"
          ]
        }
      ]
    },
    {
      "cell_type": "code",
      "source": [
        "def fn_uno():\n",
        "    print(\"Hola Mundo\")\n",
        " \n",
        "a, b, c = 10, \"Hola\", fn_uno\n",
        "print(a)\n",
        "print(b)\n",
        "print(c)\n",
        "\n",
        "c.__call__()"
      ],
      "metadata": {
        "colab": {
          "base_uri": "https://localhost:8080/"
        },
        "id": "zdRYdwX-B7XS",
        "outputId": "eecfe0fe-707e-4578-c9fe-533c2ed45bad"
      },
      "execution_count": null,
      "outputs": [
        {
          "output_type": "stream",
          "name": "stdout",
          "text": [
            "10\n",
            "Hola\n",
            "<function fn_uno at 0x7ff396d796c0>\n",
            "Hola Mundo\n"
          ]
        }
      ]
    },
    {
      "cell_type": "code",
      "source": [
        "# entrada por teclado\n",
        "nombre = input(\"Por favor, introduce tu nombre: \")\n",
        "print(f\"Hola {nombre}!\")\n"
      ],
      "metadata": {
        "colab": {
          "base_uri": "https://localhost:8080/"
        },
        "id": "-4XaPoO4DK-N",
        "outputId": "0b92f9d2-4f98-4d02-9652-e5edf11e80b6"
      },
      "execution_count": null,
      "outputs": [
        {
          "output_type": "stream",
          "name": "stdout",
          "text": [
            "Por favor, introduce tu nombre: Alexis\n",
            "Hola Alexis!\n"
          ]
        }
      ]
    },
    {
      "cell_type": "code",
      "source": [
        "numero =int(20)\n",
        "print(numero)\n",
        "edad = int(input(\"Introduce tu edad:\"))\n",
        "print(f\"{nombre} tiene {edad} años\")"
      ],
      "metadata": {
        "colab": {
          "base_uri": "https://localhost:8080/"
        },
        "id": "AsPeb-LDDde7",
        "outputId": "e7c3ede9-25d9-47c8-a02c-6eae1589c006"
      },
      "execution_count": null,
      "outputs": [
        {
          "output_type": "stream",
          "name": "stdout",
          "text": [
            "20\n",
            "Introduce tu edad:22\n",
            "Alexis tiene 22 años\n"
          ]
        }
      ]
    },
    {
      "cell_type": "code",
      "source": [
        "mensaje = \"Hola Mundo\"  # String\n",
        "edad = 20               # Integer\n",
        "pi = 3.14159            # Float\n",
        "es_mayor = True         # Boolean\n",
        "imaginario = 3 + 4j     # Imaginario"
      ],
      "metadata": {
        "id": "sd7yLX0OEJDp"
      },
      "execution_count": null,
      "outputs": []
    },
    {
      "cell_type": "code",
      "source": [
        "print(imaginario)\n",
        "print(pi)"
      ],
      "metadata": {
        "colab": {
          "base_uri": "https://localhost:8080/"
        },
        "id": "KczPwFw8EKRe",
        "outputId": "3492cb86-4473-4a53-b714-2d7e975bffe9"
      },
      "execution_count": null,
      "outputs": [
        {
          "output_type": "stream",
          "name": "stdout",
          "text": [
            "(3+4j)\n",
            "3.14159\n"
          ]
        }
      ]
    },
    {
      "cell_type": "code",
      "source": [
        "#.          0.        1.        2.\n",
        "#          -3.       -2.       -1.\n",
        "frutas = ['limon','aguacate','fresa']\n",
        "print(frutas[2])\n",
        "print(frutas[-1])"
      ],
      "metadata": {
        "colab": {
          "base_uri": "https://localhost:8080/"
        },
        "id": "yZfpMubsEw4I",
        "outputId": "f2e531ea-adab-49be-f088-85c7e5a3ea8c"
      },
      "execution_count": null,
      "outputs": [
        {
          "output_type": "stream",
          "name": "stdout",
          "text": [
            "fresa\n",
            "fresa\n"
          ]
        }
      ]
    },
    {
      "cell_type": "code",
      "source": [
        "cosas = ['limon', 10, 3,1216, True, [1,2,3,4], \"Hola\"]\n",
        "print(cosas)"
      ],
      "metadata": {
        "colab": {
          "base_uri": "https://localhost:8080/"
        },
        "id": "GKcEz14jFwaZ",
        "outputId": "640776c9-f28e-4179-83dd-2b059598825b"
      },
      "execution_count": null,
      "outputs": [
        {
          "output_type": "stream",
          "name": "stdout",
          "text": [
            "['limon', 10, 3, 1216, True, [1, 2, 3, 4], 'Hola']\n"
          ]
        }
      ]
    },
    {
      "cell_type": "markdown",
      "source": [
        "# Slicing en python\n",
        "\n",
        "[inicio : stop : step] \n",
        "\n",
        "Es la posibilidad de obtener rebanadas a partir de un tipo de datos listas o tupla, en general de un iterable. Un tipo de dato String es un iterable.\n",
        "por defecto:\n",
        "\n",
        "inicio =0\n",
        "\n",
        "stop es igual al tamaño de la variable\n",
        "\n",
        "step =1"
      ],
      "metadata": {
        "id": "h03jALOTF_5y"
      }
    },
    {
      "cell_type": "markdown",
      "source": [
        "###Listas"
      ],
      "metadata": {
        "id": "NVnrU1mMIrmF"
      }
    },
    {
      "cell_type": "code",
      "source": [
        "ejemplo =[1,2,3,4,5,6, 'a','b','c','d','e']\n",
        "print(ejemplo) "
      ],
      "metadata": {
        "colab": {
          "base_uri": "https://localhost:8080/"
        },
        "id": "A97S_YSvG-b0",
        "outputId": "c8641229-a64b-4e97-d2c9-1720bc015ee5"
      },
      "execution_count": null,
      "outputs": [
        {
          "output_type": "stream",
          "name": "stdout",
          "text": [
            "[1, 2, 3, 4, 5, 6, 'a', 'b', 'c', 'd', 'e']\n"
          ]
        }
      ]
    },
    {
      "cell_type": "code",
      "source": [
        "rebanada = ejemplo[2:6:1]\n",
        "print(rebanada)"
      ],
      "metadata": {
        "colab": {
          "base_uri": "https://localhost:8080/"
        },
        "id": "UNkZGm2BHOez",
        "outputId": "29ba78ce-c845-46e2-e082-7bd974c0b08d"
      },
      "execution_count": null,
      "outputs": [
        {
          "output_type": "stream",
          "name": "stdout",
          "text": [
            "[3, 4, 5, 6]\n"
          ]
        }
      ]
    },
    {
      "cell_type": "code",
      "source": [
        "rebanada2 = ejemplo[6:9:1]\n",
        "print(rebanada2)"
      ],
      "metadata": {
        "colab": {
          "base_uri": "https://localhost:8080/"
        },
        "id": "hitX_aXeHwhv",
        "outputId": "7ac6f843-3b08-4389-c5cc-eed7db931ac3"
      },
      "execution_count": null,
      "outputs": [
        {
          "output_type": "stream",
          "name": "stdout",
          "text": [
            "['a', 'b', 'c']\n"
          ]
        }
      ]
    },
    {
      "cell_type": "markdown",
      "source": [
        "###Tuplas"
      ],
      "metadata": {
        "id": "5b_caW9BIxTS"
      }
    },
    {
      "cell_type": "code",
      "source": [
        "frutas_dos = ('Aguacate', 'Limon', 'Naranja')\n",
        "\n",
        "print(frutas)\n",
        "print(frutas_dos)\n",
        "\n",
        "frutas[1] = 'Piña'\n",
        "#frutas_dos[1] = 'Piña'\n",
        "\n",
        "print(frutas[1])\n",
        "print(frutas_dos[1])\n",
        "\n",
        "print(frutas_dos[0:2:1])\n",
        "print(frutas_dos[-1])"
      ],
      "metadata": {
        "colab": {
          "base_uri": "https://localhost:8080/"
        },
        "id": "zyEo6Ij5Iy_u",
        "outputId": "e585aa2e-6ee3-4cd1-f70f-b954eacad807"
      },
      "execution_count": null,
      "outputs": [
        {
          "output_type": "stream",
          "name": "stdout",
          "text": [
            "['limon', 'Piña', 'fresa']\n",
            "('Aguacate', 'Limon', 'Naranja')\n",
            "Piña\n",
            "Limon\n",
            "('Aguacate', 'Limon')\n",
            "Naranja\n"
          ]
        }
      ]
    },
    {
      "cell_type": "markdown",
      "source": [
        "# Diccionario teoría\n",
        "\n",
        "1. Es un conjunto de pares llave valor\n",
        "1. Agrupados por ':'\n",
        "1. La llave siempre es de tipo String\n",
        "1. El valor puede ser de cualquier tipo.\n",
        "1. El selector de la forma ['llave']\n",
        "1. Mutable\n",
        "1. Se declara entre los caracteres '{ y }'\n",
        "1. Los pares estan separados por ','"
      ],
      "metadata": {
        "id": "b7RD01yHKFp-"
      }
    },
    {
      "cell_type": "code",
      "source": [
        "alumno = {'numero_cuenta' :1234455 , 'carrera' :'ICO' ,\n",
        "        'direccion' : {'calle' : 'rancho seco', 'numero' : 23}\n",
        "      }\n",
        "print(alumno['carrera'])\n",
        "print(alumno['direccion'])\n",
        "print(alumno['direccion']['numero'])\n",
        "print(alumno['direccion']['calle'][3:6:1])"
      ],
      "metadata": {
        "colab": {
          "base_uri": "https://localhost:8080/"
        },
        "id": "vuZpDeyPKkDs",
        "outputId": "ab13c0a2-bbe4-4f37-e684-e0805a510f70"
      },
      "execution_count": null,
      "outputs": [
        {
          "output_type": "stream",
          "name": "stdout",
          "text": [
            "ICO\n",
            "{'calle': 'rancho seco', 'numero': 23}\n",
            "23\n",
            "cho\n"
          ]
        }
      ]
    }
  ]
}